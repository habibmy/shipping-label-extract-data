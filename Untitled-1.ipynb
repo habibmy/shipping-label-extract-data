{
 "cells": [
  {
   "cell_type": "code",
   "execution_count": 1,
   "metadata": {},
   "outputs": [],
   "source": [
    "import PyPDF2\n",
    "import re"
   ]
  },
  {
   "cell_type": "code",
   "execution_count": 2,
   "metadata": {},
   "outputs": [],
   "source": [
    "\n",
    "with open('C:/Users/habib/OneDrive/Downloads/Flipkart-Labels-20-Apr-2025-11-55.pdf', 'rb') as file:\n",
    "    pdf_reader = PyPDF2.PdfReader(file)\n",
    "    page = pdf_reader.pages[0].extract_text()\n"
   ]
  },
  {
   "cell_type": "code",
   "execution_count": 3,
   "metadata": {},
   "outputs": [
    {
     "data": {
      "text/plain": [
       "'B4\\n \\nE-Kart Logistics \\nOD434189710299997100\\n \\nPREPAID\\n \\nSold By:\\nAHMAN INDUSTRIES,\\n \\nBagh Maloo Kha, West Mangal Talaab, \\n,\\nPATNA \\n- 800008\\nGSTIN: \\n10MJMPS9159P1Z0\\nSKU ID | Description\\nQTY\\n1\\nNAP-250-5 \\n| ELYSIAN Naphthalene Balls 250 g\\n1\\n2\\nNAP-250-5 | ELYSIAN Naphthalene Balls 250 g\\n1\\nFMPP2999717266\\n \\nTax\\nInvoice\\nOrder Id:\\nOD434189710299997100 \\nOrder Date: \\n19-04-2025, 11:19\\nAM\\nInvoice No:\\nFAKG712600000069\\nInvoice Date: \\n20-04-2025,\\n11:55 PM\\nGSTIN:\\n10MJMPS9159P1Z0\\nPAN: MJMPS9159P\\nSTD\\nE\\nOrdered through\\nAWB No. \\nFMPP2999717266\\n(N) \\nCJB/PEL\\nHBD: 21 - 04\\nCPD: 30 - 04\\nShipping/Customer address:\\nName: L Senthilkumar,\\nGandhi maanagar Peelamedu, \\nWater\\nboard,\\nWater board,\\nCoimbatore - \\n641004\\n, IN-TN\\nNot for resale.\\nPrinted at 2355 hrs, 20/04/25\\nSold By\\n \\nAHMAN INDUSTRIES,\\nBagh Maloo Kha, West Mangal Talaab, \\n,\\nPATNA - 800008\\n \\nGST: 10MJMPS9159P1Z0 \\nBilling Address\\n \\nL Senthilkumar,\\nGandhi maanagar Peelamedu,\\nWater board,\\nWater board,\\nCoimbatore - 641004, IN-TN \\nShipping ADDRESS\\nL Senthilkumar, \\nGandhi maanagar Peelamedu,\\nWater board,\\nWater board,\\nCoimbatore - 641004, IN-TN\\nFSSAI License number:\\n \\nnull\\nSeller Registered Address:\\n \\nAHMAN INDUSTRIES,\\nAHMAN INDUSTRIES, \\nBAGH MALOO KHA, WARD 64, WEST MANGAL TALAAB, \\nPATNA CITY - 800008. \\nDeclaration \\nThe goods sold are intended for end user consumption and not for resale. \\n \\nE. & O.E.\\nProduct\\nDescription\\nQty\\nGross \\nAmount\\nDiscount\\nTaxable \\nValue\\nIGST\\nCESS\\nTotal\\nELYSIAN Naphthalene Balls 250 g \\n|\\nNAP-250-5 \\n| Not eligible for return \\n|\\nIMEI/SrNo: [[]]\\nHSN: 29029040 \\n| IGST:\\n18.00% \\n| CESS: 0.00%\\n1\\n106.00\\n-0.00\\n89.83\\n16.17\\n0.00\\n106.00\\nShipping and Handling\\nCharges\\n1\\n20.00\\n0\\n16.95\\n3.05\\n0.00\\n20.00\\nELYSIAN Naphthalene Balls 250 g \\n|\\nNAP-250-5 \\n| Not eligible for return \\n|\\nIMEI/SrNo: [[]]\\nHSN: 29029040 \\n| IGST:\\n18.00%\\n1\\n106.00\\n-0.00\\n89.83\\n16.17\\n0.00\\n106.00\\nShipping and Handling\\nCharges\\n1\\n20.00\\n0\\n16.95\\n3.05\\n0.00\\n20.00\\nTOTAL QTY: 2\\nTOTAL PRICE: 252.00 \\nAll values are in INR\\nOrdered Through\\n \\nAHMAN INDUSTRIES\\nAuthorized Signature'"
      ]
     },
     "execution_count": 3,
     "metadata": {},
     "output_type": "execute_result"
    }
   ],
   "source": [
    "page"
   ]
  },
  {
   "cell_type": "code",
   "execution_count": 4,
   "metadata": {},
   "outputs": [],
   "source": [
    "def extract_info(pattern, text):\n",
    "    match = re.search(pattern, text)\n",
    "    if match:\n",
    "        return match.group(1).strip()\n",
    "    else:\n",
    "        return None"
   ]
  },
  {
   "cell_type": "code",
   "execution_count": 5,
   "metadata": {},
   "outputs": [
    {
     "data": {
      "text/plain": [
       "'FMPP2999717266'"
      ]
     },
     "execution_count": 5,
     "metadata": {},
     "output_type": "execute_result"
    }
   ],
   "source": [
    "extract_info(r\"AWB No\\.?\\s*([A-Z0-9]+)\", page)"
   ]
  },
  {
   "cell_type": "code",
   "execution_count": 30,
   "metadata": {},
   "outputs": [],
   "source": [
    "text = page\n",
    "# Extract relevant details using regular expressions\n",
    "sold_by = extract_info(r\"Sold By:\\s+([^,]+)\", text)\n",
    "address = extract_info(r\"Address:\\s+([^,]+)\", text)\n",
    "gstin = extract_info(r\"GSTIN No:\\s+([^,]+)\", text)\n",
    "tracking_id = extract_info(r\"Tracking ID:\\s+([^,]+)\", text)\n",
    "cod_amount = extract_info(r\"COD Collect amount :\\s+([^,]+)\", text)\n",
    "order_id = extract_info(r\"Order Id:\\s+([^,]+)\", text)\n",
    "order_date = extract_info(r\"Order Date:\\s+([^,]+)\", text)\n",
    "invoice_no = extract_info(r\"Invoice No:\\s+([^,]+)\", text)\n",
    "invoice_date = extract_info(r\"Invoice Date:\\s+([^,]+)\", text)\n",
    "delivery_name = extract_info(r\"DELIVERY ADDRESS:\\s+([^,]+)\", text)\n",
    "delivery_address = extract_info(r\"DELIVERY ADDRESS:\\s+[^,]+,([^,]+)\", text)\n",
    "courier_name = extract_info(r\"Courier Name:\\s+([^,]+)\", text)\n",
    "courier_awb_no = extract_info(r\"Courier AWB No:\\s+([^,]+)\", text)\n",
    "billing_name = extract_info(r\"Billing Address\\s+([^,]+)\", text)\n",
    "billing_address = extract_info(r\"Billing Address\\s+[^,]+,([^,]+)\", text)\n",
    "shipping_name = extract_info(r\"Shipping ADDRESS\\s+([^,]+)\", text)\n",
    "shipping_address = extract_info(r\"Shipping ADDRESS\\s+[^,]+,([^,]+)\", text)\n",
    "seller_registered_address = extract_info(r\"Seller Registered Address:\\s+([^\\.]+)\", text)\n",
    "product_description = extract_info(r\"Product\\nDescription\\nQty\\n[^|]+\\n\\w+\\n(.+)\\n\", text)\n",
    "product_qty = extract_info(r\"Product\\nDescription\\nQty\\n[^|]+\\n\\w+\\n.+[\\n\\|]+(\\d+)\", text)\n",
    "product_gross_amount = extract_info(r\"Product\\nDescription\\nQty\\n[^|]+\\n\\w+\\n.+\\n(\\d+\\.\\d+)\", text)\n",
    "product_discount = extract_info(r\"Product\\nDescription\\nQty\\n[^|]+\\n\\w+\\n.+\\n\\d+\\.\\d+\\n(\\d+\\.\\d+)\", text)\n",
    "product_taxable_value = extract_info(r\"Product\\nDescription\\nQty\\n[^|]+\\n\\w+\\n.+\\n\\d+\\.\\d+\\n\\d+\\.\\d+\\n(\\d+\\.\\d+)\", text)\n",
    "product_cgst = extract_info(r\"Product\\nDescription\\nQty\\n[^|]+\\n\\w+\\n.+\\n\\d+\\.\\d+\\n\\d+\\.\\d+\\n\\d+\\.\\d+\\n(\\d+\\.\\d+)\", text)\n",
    "product_sgst = extract_info(r\"Product\\nDescription\\nQty\\n[^|]+\\n\\w+\\n.+\\n\\d+\\.\\d+\\n\\d+\\.\\d+\\n\\d+\\.\\d+\\n\\d+\\.\\d+\\n(\\d+\\.\\d+)\", text)\n",
    "product_total = extract_info(r\"Product\\nDescription\\nQty\\n[^|]+\\n\\w+\\n.+\\n\\d+\\.\\d+\\n\\d+\\.\\d+\\n\\d+\\.\\d+\\n\\d+\\.\\d+\\n\\d+\\.\\d+\\n(\\d+\\.\\d+)\", text)\n",
    "shipping_handling_qty = extract_info(r\"Shipping and Handling\\nCharges\\n(\\d+)\", text)\n",
    "shipping_handling_price = extract_info(r\"Shipping and Handling\\nCharges\\n\\d+\\n(\\d+\\.\\d+)\", text)\n",
    "shipping_handling_cgst = extract_info(r\"Shipping and Handling\\nCharges\\n\\d+\\n\\d+\\.\\d+\\n(\\d+\\.\\d+)\", text)\n",
    "shipping_handling_sgst = extract_info(r\"Shipping and Handling\\nCharges\\n\\d+\\n\\d+\\.\\d+\\n\\d+\\.\\d+\\n(\\d+\\.\\d+)\", text)\n",
    "total_qty = extract_info(r\"TOTAL QTY:\\s+(\\d+)\", text)\n",
    "total_price = extract_info(r\"TOTAL PRICE:\\s+(\\d+\\.\\d+)\", text)\n",
    "sku = extract_info(r\"SKU ID\\s*\\|\\s*Description.*?\\n(?:.*\\n){2}([^\\s|]+)\\s*\\|\", text)\n",
    "\n",
    "# Create a dictionary to store the extracted information\n",
    "data = {\n",
    "    \"Sold By\": sold_by,\n",
    "    \"Address\": address,\n",
    "    \"GSTIN No\": gstin,\n",
    "    \"Tracking ID\": tracking_id,\n",
    "    \"COD Collect amount\": cod_amount,\n",
    "    \"Order ID\": order_id,\n",
    "    \"Order Date\": order_date,\n",
    "    \"Invoice No\": invoice_no,\n",
    "    \"Invoice Date\": invoice_date,\n",
    "    \"Delivery Name\": delivery_name,\n",
    "    \"Delivery Address\": delivery_address,\n",
    "    \"Courier Name\": courier_name,\n",
    "    \"Courier AWB No\": courier_awb_no,\n",
    "    \"Billing Name\": billing_name,\n",
    "    \"Billing Address\": billing_address,\n",
    "    \"Shipping Name\": shipping_name,\n",
    "    \"Shipping Address\": shipping_address,\n",
    "    \"Seller Registered Address\": seller_registered_address,\n",
    "    \"Product Description\": product_description,\n",
    "    \"Product Qty\": product_qty,\n",
    "    \"Product Gross Amount\": product_gross_amount,\n",
    "    \"Product Discount\": product_discount,\n",
    "    \"Product Taxable Value\": product_taxable_value,\n",
    "    \"Product CGST\": product_cgst,\n",
    "    \"Product SGST\": product_sgst,\n",
    "    \"Product Total\": product_total,\n",
    "    \"Shipping and Handling Qty\": shipping_handling_qty,\n",
    "    \"Shipping and Handling Price\": shipping_handling_price,\n",
    "    \"Shipping and Handling CGST\": shipping_handling_cgst,\n",
    "    \"Shipping and Handling SGST\": shipping_handling_sgst,\n",
    "    \"Total Qty\": total_qty,\n",
    "    \"Total Price\": total_price,\n",
    "    \"SKU\": sku\n",
    "}"
   ]
  },
  {
   "cell_type": "code",
   "execution_count": 32,
   "metadata": {},
   "outputs": [
    {
     "name": "stdout",
     "output_type": "stream",
     "text": [
      "OD434189710299997100 \n",
      "20-04-2025\n",
      "NAP-250-5\n",
      "2\n",
      "252.00\n",
      "FAKG712600000069\n"
     ]
    }
   ],
   "source": [
    "print(data['Order ID'].split('\\n')[0])\n",
    "print(data['Invoice Date'])\n",
    "print(data['SKU'])\n",
    "print(data['Total Qty'])\n",
    "print(data['Total Price'])\n",
    "print(data['Invoice No'].split('\\n')[0])"
   ]
  }
 ],
 "metadata": {
  "kernelspec": {
   "display_name": "myenv",
   "language": "python",
   "name": "python3"
  },
  "language_info": {
   "codemirror_mode": {
    "name": "ipython",
    "version": 3
   },
   "file_extension": ".py",
   "mimetype": "text/x-python",
   "name": "python",
   "nbconvert_exporter": "python",
   "pygments_lexer": "ipython3",
   "version": "3.13.0"
  },
  "orig_nbformat": 4
 },
 "nbformat": 4,
 "nbformat_minor": 2
}
